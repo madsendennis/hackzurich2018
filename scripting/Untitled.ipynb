{
 "cells": [
  {
   "cell_type": "code",
   "execution_count": 374,
   "metadata": {},
   "outputs": [],
   "source": [
    "import pandas as pd\n",
    "foodfile = \"../data/food.xls\"\n",
    "recipesfile = \"../data/recipes.xls\"\n",
    "fooddf = pd.read_excel(foodfile)\n",
    "fooddf = fooddf.dropna(how='all')\n",
    "fooddf = fooddf.set_index(\"Name\")\n",
    "#fooddf"
   ]
  },
  {
   "cell_type": "code",
   "execution_count": 375,
   "metadata": {},
   "outputs": [],
   "source": [
    "recipesdf = pd.read_excel(recipesfile)\n",
    "recipesdf = recipesdf.fillna(0)\n",
    "#recipesdf"
   ]
  },
  {
   "cell_type": "code",
   "execution_count": 376,
   "metadata": {},
   "outputs": [
    {
     "data": {
      "text/plain": [
       "Index(['Almonds', 'Apple', 'Banana', 'Beef', 'Bread', 'Butter', 'Cabbage',\n",
       "       'Carrot', 'Cheese', 'Chicken', 'Chickpeas', 'Corn', 'Cucumber',\n",
       "       'Dry Pasta', 'Egg', 'Jam', 'Lamb', 'Lentils', 'Lettuce', 'Milk',\n",
       "       'Olive', 'Olive oil', 'Onion', 'Orange ', 'Palmoil', 'Peas', 'Pork',\n",
       "       'Potato', 'Rabbit', 'Red kidney beans', 'Rice', 'Rice milk', 'Tofu',\n",
       "       'Tomato', 'Turkey'],\n",
       "      dtype='object', name='Name')"
      ]
     },
     "execution_count": 376,
     "metadata": {},
     "output_type": "execute_result"
    }
   ],
   "source": [
    "fooddf.index"
   ]
  },
  {
   "cell_type": "code",
   "execution_count": 377,
   "metadata": {
    "scrolled": true
   },
   "outputs": [],
   "source": [
    "newcols = []\n",
    "veglist=[\"Non-vegetarian\",\"Vegetarian\",\"Vegan\"]\n",
    "for cols in fooddf.columns[2:]:\n",
    "    #print(cols)\n",
    "    col = []\n",
    "    for recipe in recipesdf.iterrows():\n",
    "        nutrition = 0\n",
    "        ifstring = []\n",
    "        isstring = False\n",
    "        for ingredient in range(len(recipe[1])):\n",
    "            if(recipe[1][ingredient] != 0.0):\n",
    "                if(type(fooddf.loc[recipesdf.columns[ingredient]][cols]) is str):\n",
    "                    isstring = True\n",
    "                    ifstring.append(fooddf.loc[recipesdf.columns[ingredient]][cols])\n",
    "                else:\n",
    "                    isstring = False\n",
    "                    nutrition += recipe[1][ingredient]*fooddf.loc[recipesdf.columns[ingredient]][cols]     \n",
    "        if(isstring):\n",
    "            ifstring = set(ifstring)\n",
    "            isveg = False\n",
    "            for veg in veglist:\n",
    "                if(veg in ifstring):\n",
    "                    isveg = True\n",
    "                    col.append(veg)\n",
    "                    break\n",
    "            if not isveg:\n",
    "                col.append(set(ifstring))\n",
    "        else:\n",
    "            col.append(nutrition)\n",
    "    #print(col)\n",
    "    newcols.append(col)\n",
    "    \n",
    "for cols in range(len(fooddf.columns[2:])):\n",
    "    recipesdf[fooddf.columns[2:][cols]] = newcols[cols]"
   ]
  },
  {
   "cell_type": "code",
   "execution_count": 378,
   "metadata": {
    "scrolled": true
   },
   "outputs": [],
   "source": [
    "recipesdf.to_excel(\"../data/recipes_done.xls\")"
   ]
  },
  {
   "cell_type": "code",
   "execution_count": null,
   "metadata": {},
   "outputs": [],
   "source": []
  }
 ],
 "metadata": {
  "kernelspec": {
   "display_name": "Python 3",
   "language": "python",
   "name": "python3"
  },
  "language_info": {
   "codemirror_mode": {
    "name": "ipython",
    "version": 3
   },
   "file_extension": ".py",
   "mimetype": "text/x-python",
   "name": "python",
   "nbconvert_exporter": "python",
   "pygments_lexer": "ipython3",
   "version": "3.5.2"
  }
 },
 "nbformat": 4,
 "nbformat_minor": 2
}
